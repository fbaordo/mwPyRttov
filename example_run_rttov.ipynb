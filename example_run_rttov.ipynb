{
 "cells": [
  {
   "cell_type": "markdown",
   "metadata": {},
   "source": [
    "Example to run RTTOV given NWP data at satellite location"
   ]
  },
  {
   "cell_type": "code",
   "execution_count": 1,
   "metadata": {},
   "outputs": [
    {
     "name": "stderr",
     "output_type": "stream",
     "text": [
      "/home/fab/anaconda3/envs/mw_rttov/lib/python3.9/site-packages/ecmwflibs/__init__.py:69: UserWarning: ecmwflibs: ignoring provided 'ECCODES_DEFINITION_PATH' set to '/usr/share/eccodes/definitions'. If you want ecmwflibs to use this environment variable, use ECMWFLIBS_ECCODES_DEFINITION_PATH instead. If you want to use your own ECCODES library, use ECMWFLIBS_ECCODES.\n",
      "  warnings.warn(\n"
     ]
    }
   ],
   "source": [
    "import sys\n",
    "# The pyrttov package and the RTTOV rttov_wrapper_f2py.so library must be in your $PYTHONPATH\n",
    "# Add location of pyrttov and rttov_wrapper_f2py.so to the python path\n",
    "# WARNING: set RTTOV version (rttovVer) in mw_rttov_cfg.py \n",
    "sys.path.append('/home/fab/rttov130/wrapper')\n",
    "\n",
    "import os\n",
    "import xarray as xr\n",
    "from datetime import datetime\n",
    "from rttov13v0_interface import run_rttov"
   ]
  },
  {
   "cell_type": "code",
   "execution_count": 2,
   "metadata": {},
   "outputs": [],
   "source": [
    "# WARNING: mw_rttov_cfg.py contains \n",
    "# - some variables which can be used to tune RTTOV  \n",
    "# - the logic to handle the satellite sensor according to the variable strSatId (e.g. channels to be simulated, satZenAngle, rttov files to get, constant ice emis)\n",
    "\n",
    "# String to identify the satellite to simulate.\n",
    "# The following strings are implemented in mw_rttov_cfg.py: amsr2, ssmis_f16 ssmis_f17, ssmis_f18\n",
    "# To add any other satellite add a string and the necessary logic in mw_rttov_cfg.py \n",
    "# WARNING: in this implemenatation we consider a constant satZenAngle which is defined in the mw_rttov_cfg.py according to the sensor\n",
    "strSatId = 'amsr2'\n",
    "\n",
    "topPath    = '/home/fab/Desktop/ieee_rtm_corr_sic/nwp_swath_era5/20190225'\n",
    "swath_time = '201902250529'\n",
    "\n",
    "# Collocated NWP surface variables\n",
    "ncSurfNwp2swath = os.path.join(topPath,swath_time, 'surf.era5TOamsr2.'+swath_time+'.nc')\n",
    "# Collocated NWP model level variables\n",
    "ncProfNwp2swath = os.path.join(topPath,swath_time, 'ml.era5TOamsr2.'+swath_time+'.nc')\n",
    "\n",
    "# Expected RTTOV path which are in your RTTOV package. Within this paths we expect necessary input files to run RTTTOV  \n",
    "# Mandatory: where to find rttov coef files for the mw sensor which must be simulated (e.g. rtcoef_gcom-w_1_amsr2.dat)\n",
    "rttovCoefDir = '/home/fab/rttov132/rtcoef_rttov13/rttov13pred54L'\n",
    "# Mandatory when rttovScatt = True: where to find hydrotable file for the mw sensor which must be simulated (e.g. hydrotable_gcom-w_amsr2.dat)\n",
    "rttovHydDir  = '/home/fab/rttov132/rtcoef_rttov13/hydrotable'\n",
    "# Mandatory when useEmisAtlas = True: where to find expected MW emissvity atlas files (hdf5) \n",
    "rttovAtlasEmisDir = '/home/fab/rttov132/emis_data'\n",
    "\n",
    "# False: simulate atmospheric absorption (T, Q, CLWC are only used as NWP profile) \n",
    "# True: use RTTOV-SCATT to active the calculation of scattering (CIWC, CRWC, CSWC and CC are also mandatory as NWP profiles)\n",
    "rttovScatt = False\n",
    "\n",
    "# Emis is computed as Emis = (1-sic)*EmisOcean + sic*EmisIce, where\n",
    "# EmisOcean is extracted from RTTOV (e.g. FATSEM emis) \n",
    "# EmisIce is:  \n",
    "#    useEmisAtlas = False: use a constant values (defined in mw_rttov_cfg.py) or (to be implemented) any other estimate/model     \n",
    "#    useEmisAtlas = True: use TELSEM MW emissvity atlas\n",
    "useEmisAtlas = False\n",
    "\n",
    "# active calculation of BT with 'no Atmosphere' (necessary for SIC algorithm)\n",
    "# if True simTb_noAtm is populated, otherwise return empty list\n",
    "calbBTnoAtm = True"
   ]
  },
  {
   "cell_type": "code",
   "execution_count": 3,
   "metadata": {},
   "outputs": [],
   "source": [
    "# Collocated NWP surface variables\n",
    "surfNwp2swath = xr.open_dataset(ncSurfNwp2swath)\n",
    "# Collocated NWP model level variables\n",
    "profNwp2swath = xr.open_dataset(ncProfNwp2swath)\n",
    "\n",
    "# Surface\n",
    "lats = surfNwp2swath['lat'].data\n",
    "lons = surfNwp2swath['lon'].data\n",
    "sic  = surfNwp2swath['sic'].data\n",
    "skt  = surfNwp2swath['skt'].data\n",
    "t2m  = surfNwp2swath['t2m'].data\n",
    "u10  = surfNwp2swath['u10'].data\n",
    "v10  = surfNwp2swath['v10'].data\n",
    "sp   = surfNwp2swath['sp'].data\n",
    "\n",
    "# sic must be [0-1]\n",
    "if sic.max() > 1:\n",
    "    sic = sic/100.\n",
    "\n",
    "# Model Level\n",
    "profT = profNwp2swath['t'].data\n",
    "profQ = profNwp2swath['q'].data\n",
    "profCLWC = profNwp2swath['clwc'].data\n",
    "profCIWC = profNwp2swath['ciwc'].data\n",
    "profCRWC = profNwp2swath['crwc'].data\n",
    "profCSWC = profNwp2swath['cswc'].data\n",
    "profCC   = profNwp2swath['cc'].data\n",
    "hPaFullLevels = profNwp2swath['pf'].data\n",
    "hPaHalfLevels = profNwp2swath['ph'].data"
   ]
  },
  {
   "cell_type": "code",
   "execution_count": 25,
   "metadata": {},
   "outputs": [
    {
     "data": {
      "text/plain": [
       "'sp 97653.59375'"
      ]
     },
     "execution_count": 25,
     "metadata": {},
     "output_type": "execute_result"
    }
   ],
   "source": [
    "'sp {0}'.format(sp[0])"
   ]
  },
  {
   "cell_type": "code",
   "execution_count": 26,
   "metadata": {},
   "outputs": [
    {
     "data": {
      "text/plain": [
       "'profQ [2.3075172e-06 4.0337582e-06 4.0840214e-06 4.0779360e-06 3.9467436e-06\\n 3.7573839e-06 3.4976622e-06 3.3258700e-06 3.1948439e-06 3.0906526e-06\\n 2.9465177e-06 2.8153195e-06 2.7404744e-06 2.7185902e-06 2.6691221e-06\\n 2.5962788e-06 2.5623879e-06 2.5018962e-06 2.9503301e-06 3.2536361e-06\\n 9.4510024e-06 1.4501780e-05 3.5029207e-05 4.8714130e-05 9.5835057e-05\\n 2.8156661e-04 9.8361052e-04 1.6164107e-03 1.8984259e-03 2.4554334e-03\\n 3.0153531e-03 3.2861801e-03 3.4601693e-03 3.4873991e-03 3.5071415e-03]'"
      ]
     },
     "execution_count": 26,
     "metadata": {},
     "output_type": "execute_result"
    }
   ],
   "source": [
    "'profQ {0}'.format(profQ[0,:])"
   ]
  },
  {
   "cell_type": "code",
   "execution_count": 27,
   "metadata": {},
   "outputs": [
    {
     "data": {
      "text/plain": [
       "'profCC [0.         0.         0.         0.         0.         0.\\n 0.         0.         0.         0.         0.         0.\\n 0.         0.         0.         0.         0.         0.\\n 0.         0.         0.         0.         0.         0.\\n 0.         0.         0.01406234 0.743435   0.89538085 0.46525884\\n 0.98120046 0.868566   0.00123207 0.         0.        ]'"
      ]
     },
     "execution_count": 27,
     "metadata": {},
     "output_type": "execute_result"
    }
   ],
   "source": [
    "'profCC {0}'.format(profCC[0,:])"
   ]
  },
  {
   "cell_type": "code",
   "execution_count": 28,
   "metadata": {},
   "outputs": [
    {
     "data": {
      "text/plain": [
       "'profCLWC [0.00000000e+00 0.00000000e+00 0.00000000e+00 0.00000000e+00\\n 0.00000000e+00 0.00000000e+00 0.00000000e+00 0.00000000e+00\\n 0.00000000e+00 0.00000000e+00 0.00000000e+00 0.00000000e+00\\n 0.00000000e+00 0.00000000e+00 0.00000000e+00 0.00000000e+00\\n 0.00000000e+00 0.00000000e+00 0.00000000e+00 0.00000000e+00\\n 0.00000000e+00 0.00000000e+00 0.00000000e+00 0.00000000e+00\\n 0.00000000e+00 0.00000000e+00 1.37674778e-08 1.04359526e-04\\n 7.40015093e-05 4.54444807e-06 2.26140819e-05 2.24817468e-05\\n 0.00000000e+00 0.00000000e+00 0.00000000e+00]'"
      ]
     },
     "execution_count": 28,
     "metadata": {},
     "output_type": "execute_result"
    }
   ],
   "source": [
    "'profCLWC {0}'.format(profCLWC[0,:])"
   ]
  },
  {
   "cell_type": "code",
   "execution_count": 29,
   "metadata": {},
   "outputs": [
    {
     "data": {
      "text/plain": [
       "'hpa full [1.00018252e-02 8.28747153e-02 2.89857149e-01 7.82082319e-01\\n 1.75308979e+00 3.42701554e+00 6.03876686e+00 9.81772995e+00\\n 1.49769650e+01 2.17076378e+01 3.01775532e+01 4.05321045e+01\\n 5.28644295e+01 6.71940842e+01 8.38800583e+01 1.03693436e+02\\n 1.27259697e+02 1.55043854e+02 1.87540024e+02 2.25289185e+02\\n 2.68882812e+02 3.18959045e+02 3.76196411e+02 4.41306580e+02\\n 5.14881409e+02 5.94062622e+02 6.72634460e+02 7.45000916e+02\\n 8.07322205e+02 8.58029480e+02 8.97452209e+02 9.27053162e+02\\n 9.48718567e+02 9.64297363e+02 9.75378845e+02]'"
      ]
     },
     "execution_count": 29,
     "metadata": {},
     "output_type": "execute_result"
    }
   ],
   "source": [
    " 'hpa full {0}'.format(hPaFullLevels[0,:])"
   ]
  },
  {
   "cell_type": "code",
   "execution_count": 30,
   "metadata": {},
   "outputs": [
    {
     "data": {
      "text/plain": [
       "'hpa half [0.0000000e+00 2.0003650e-02 9.7469665e-02 3.2985711e-01 8.6895883e-01\\n 1.9133856e+00 3.6898236e+00 6.4333992e+00 1.0372012e+01 1.5716229e+01\\n 2.2654316e+01 3.1351194e+01 4.1949306e+01 5.4529907e+01 6.9118706e+01\\n 8.6142792e+01 1.0639470e+02 1.3045882e+02 1.5880031e+02 1.9191820e+02\\n 2.3035988e+02 2.7472299e+02 3.2565115e+02 3.8382755e+02 4.4996744e+02\\n 5.2456653e+02 6.0405353e+02 6.8217407e+02 7.5347693e+02 8.1439685e+02\\n 8.6363989e+02 9.0172760e+02 9.3021570e+02 9.5100885e+02 9.6593317e+02\\n 9.7653595e+02]'"
      ]
     },
     "execution_count": 30,
     "metadata": {},
     "output_type": "execute_result"
    }
   ],
   "source": [
    " 'hpa half {0}'.format(hPaHalfLevels[0,:])"
   ]
  },
  {
   "cell_type": "markdown",
   "metadata": {},
   "source": [
    "NWP surface & model level variables are collocated on the satellite swath (pyresample is used).\n",
    "For every observation location (lat/lon), we have the corresponding model value. NWP AN/FC date/time is simply the closest to the central time of the satellite scan.\n",
    "\n",
    "NWP inputs to function 'run_rttov'\n",
    "\n",
    "Surface\n",
    "\n",
    " lats (1D, dim=nobs): latitude of observation location\n",
    " \n",
    " lons (1D, dim=nobs): langitude of observation location\n",
    " \n",
    " sic (1D, dim=nobs): sea ice cocnetration [0-1]\n",
    " \n",
    " tsk (1D, dim=nobs): skin temperature [K]\n",
    " \n",
    " t2m (1D, dim=nobs): 2m temperature [K]\n",
    " \n",
    " u10 (1D, dim=nobs): 10m wind u-component [m s-1]\n",
    " \n",
    " v10 (1D, dim=nobs): 10m wind v-component [m s-1]\n",
    " \n",
    " surfPre (1D, dim=nobs): surface pressure [Pa]\n",
    " \n",
    "\n",
    "Model level ('Profile')\n",
    "\n",
    " profT (2D, dim=(nobs,nlevFull)): temperature [K] on model level\n",
    " \n",
    " profQ (2D, dim=(nobs,nlevFull)): specific humidity [kg kg-1] on model level\n",
    " \n",
    " profCLWC (2D, dim=(nobs,nlevFull)): cloud liquid water content [kg kg-1] on model level\n",
    " \n",
    " profCIWC (2D, dim=(nobs,nlevFull)): cloud ice water content [kg kg-1] on model level\n",
    " \n",
    " profCRWC (2D, dim=(nobs,nlevFull)): specific rain water content [kg kg-1] on model level\n",
    " \n",
    " profCSWC (2D, dim=(nobs,nlevFull)): specific snow water content [kg kg-1] on model level\n",
    " \n",
    " profCC (2D, dim=(nobs,nlevFull)): fraction of Cloud Cover [0-1] on model level\n",
    " \n",
    " hPaFullLevels (2D, dim=(nobs,nlevFull)): full model level [hPa]\n",
    " \n",
    " hPaHalfLevels(2D, dim=(nobs,nlevHalf)): half model level [hPa]\n",
    "\n",
    "When RTTOV-SCATT is used (rttovScatt=True) the following variables are mandatory: hPaHalfLevels, profCIWC, profCRWC, profCSWC, profCC\n",
    " \n",
    "\n",
    "Outputs of function 'run_rttov'\n",
    "\n",
    "For each selected sensor's channel:\n",
    "    \n",
    "simTb:       simulated brightness temperatures\n",
    "\n",
    "simTb_noAtm: simulated brightness temperatures 'no Atm' \n",
    "\n",
    "surfEmis:    surface emissivty used in the radiative transfer calculations [E = (1-sic)*Eocean + sic*Eice]\n",
    "\n",
    "strChsList:  list of channels (string that identifies GHz + pol)\n",
    "\n",
    "RTM for 'no atm': u10=0, v10=0, profQ=0, profCLWC=0, profCIWC=0, profCRWC=0, profCSWC=0, profCC=0"
   ]
  },
  {
   "cell_type": "code",
   "execution_count": 3,
   "metadata": {},
   "outputs": [
    {
     "name": "stderr",
     "output_type": "stream",
     "text": [
      "[INFO: 2023-12-19 02:16:04: rttov13v0_interface] RTTOV VERSION from mw_rttov_cfg.py is v13.0\n",
      "[INFO: 2023-12-19 02:16:04: rttov13v0_interface] Constant sat zenith angle of 55.0 is used at every obs location\n",
      "[INFO: 2023-12-19 02:16:04: rttov13v0_interface] Calculating surface emissvity for RTTOV\n",
      "[INFO: 2023-12-19 02:16:05: calc_emis_for_rttov] MW sensor: amsr2\n",
      "[INFO: 2023-12-19 02:16:05: calc_emis_for_rttov] Rttov coef file: /home/fab/rttov132/rtcoef_rttov13/rttov13pred54L/rtcoef_gcom-w_1_amsr2.dat\n",
      "[INFO: 2023-12-19 02:16:05: calc_emis_for_rttov] Number of channels selected for RTTOV: 12\n",
      "[INFO: 2023-12-19 02:16:05: calc_emis_for_rttov] - List of selected channels: [1, 2, 3, 4, 5, 6, 7, 8, 11, 12, 13, 14]\n",
      "[INFO: 2023-12-19 02:16:05: calc_emis_for_rttov] - Freq (GHz): [ 6.925       6.925       7.3         7.3        10.65       10.65\n",
      " 18.7        18.7        36.49999999 36.49999999 88.99999999 88.99999999]\n",
      "[INFO: 2023-12-19 02:16:05: calc_emis_for_rttov] ****************************************************************\n",
      "[INFO: 2023-12-19 02:16:05: calc_emis_for_rttov] RTTOV runDirect started (get ocean surface emissvity from RTTOV)\n",
      "[INFO: 2023-12-19 02:16:05: calc_emis_for_rttov] MW ocean emis model (0=TESSEM2 else FASTEM version): 6\n",
      "[INFO: 2023-12-19 02:16:05: calc_emis_for_rttov] Tot number of profiles: 127171\n",
      "[INFO: 2023-12-19 02:16:05: calc_emis_for_rttov] Tot number of threads: 4\n",
      "[INFO: 2023-12-19 02:16:14: calc_emis_for_rttov] RTTOV runDirect finished\n",
      "[INFO: 2023-12-19 02:16:14: calc_emis_for_rttov] ****************************************************************\n",
      "[INFO: 2023-12-19 02:16:14: calc_emis_for_rttov] Estimate surface emis as (1-sic)*EmisOcean + sic*EmisIce\n",
      "[INFO: 2023-12-19 02:16:14: calc_emis_for_rttov] Emis over ice: using constant value\n",
      "[INFO: 2023-12-19 02:16:14: calc_emis_for_rttov] Constant ice emis: [0.92 0.85 0.92 0.85 0.92 0.85 0.92 0.85 0.78 0.7  0.75 0.68]\n",
      "[INFO: 2023-12-19 02:16:14: rttov13v0_interface] Simulating BT using RTTOV (T+Q+CLWC)\n",
      "[INFO: 2023-12-19 02:16:14: rttov13v0_calc_bt] MW sensor: amsr2\n",
      "[INFO: 2023-12-19 02:16:14: rttov13v0_calc_bt] Rttov coef file: /home/fab/rttov132/rtcoef_rttov13/rttov13pred54L/rtcoef_gcom-w_1_amsr2.dat\n",
      "[INFO: 2023-12-19 02:16:14: rttov13v0_calc_bt] Number of channels selected for RTTOV: 12\n",
      "[INFO: 2023-12-19 02:16:14: rttov13v0_calc_bt] - List of selected channels: [1, 2, 3, 4, 5, 6, 7, 8, 11, 12, 13, 14]\n",
      "[INFO: 2023-12-19 02:16:14: rttov13v0_calc_bt] - Freq (GHz): [ 6.925       6.925       7.3         7.3        10.65       10.65\n",
      " 18.7        18.7        36.49999999 36.49999999 88.99999999 88.99999999]\n",
      "[INFO: 2023-12-19 02:16:14: rttov13v0_calc_bt] Gas units: 2\n",
      "[INFO: 2023-12-19 02:16:14: rttov13v0_calc_bt] ****************************************************************\n",
      "[INFO: 2023-12-19 02:16:14: rttov13v0_calc_bt] RTTOV runDirect started (compute BT for NWP profile: T+Q+CLWC)\n",
      "[INFO: 2023-12-19 02:16:14: rttov13v0_calc_bt] CLWC data: True\n",
      "[INFO: 2023-12-19 02:16:14: rttov13v0_calc_bt] Tot number of profiles: 127171\n",
      "[INFO: 2023-12-19 02:16:14: rttov13v0_calc_bt] Tot number of threads: 4\n",
      "[INFO: 2023-12-19 02:16:14: rttov13v0_calc_bt] Do Lambertian: True\n",
      "[INFO: 2023-12-19 02:16:26: rttov13v0_calc_bt] RTTOV runDirect finished\n",
      "[INFO: 2023-12-19 02:16:26: rttov13v0_calc_bt] ****************************************************************\n",
      "[INFO: 2023-12-19 02:16:26: rttov13v0_interface] Simulating BT for reference atmospheric state ('no atm')\n",
      "[INFO: 2023-12-19 02:16:26: rttov13v0_calc_bt] MW sensor: amsr2\n",
      "[INFO: 2023-12-19 02:16:26: rttov13v0_calc_bt] Rttov coef file: /home/fab/rttov132/rtcoef_rttov13/rttov13pred54L/rtcoef_gcom-w_1_amsr2.dat\n",
      "[INFO: 2023-12-19 02:16:26: rttov13v0_calc_bt] Number of channels selected for RTTOV: 12\n",
      "[INFO: 2023-12-19 02:16:26: rttov13v0_calc_bt] - List of selected channels: [1, 2, 3, 4, 5, 6, 7, 8, 11, 12, 13, 14]\n",
      "[INFO: 2023-12-19 02:16:26: rttov13v0_calc_bt] - Freq (GHz): [ 6.925       6.925       7.3         7.3        10.65       10.65\n",
      " 18.7        18.7        36.49999999 36.49999999 88.99999999 88.99999999]\n",
      "[INFO: 2023-12-19 02:16:26: rttov13v0_calc_bt] ****************************************************************\n",
      "[INFO: 2023-12-19 02:16:26: rttov13v0_calc_bt] RTTOV runDirect started (compute BT for 'no atm')\n",
      "[INFO: 2023-12-19 02:16:26: rttov13v0_calc_bt] Tot number of profiles: 127171\n",
      "[INFO: 2023-12-19 02:16:26: rttov13v0_calc_bt] Tot number of threads: 4\n",
      "[INFO: 2023-12-19 02:16:26: rttov13v0_calc_bt] Do Lambertian: True\n",
      "[INFO: 2023-12-19 02:16:34: rttov13v0_calc_bt] RTTOV runDirect finished\n",
      "[INFO: 2023-12-19 02:16:34: rttov13v0_calc_bt] ****************************************************************\n",
      "[INFO: 2023-12-19 02:16:34: rttov13v0_interface] RTTOV VERSION from mw_rttov_cfg.py is v13.0\n",
      "[INFO: 2023-12-19 02:16:34: rttov13v0_interface] Constant sat zenith angle of 55.0 is used at every obs location\n",
      "[INFO: 2023-12-19 02:16:34: rttov13v0_interface] Calculating surface emissvity for RTTOV\n",
      "[INFO: 2023-12-19 02:16:34: calc_emis_for_rttov] MW sensor: amsr2\n",
      "[INFO: 2023-12-19 02:16:34: calc_emis_for_rttov] Rttov coef file: /home/fab/rttov132/rtcoef_rttov13/rttov13pred54L/rtcoef_gcom-w_1_amsr2.dat\n",
      "[INFO: 2023-12-19 02:16:34: calc_emis_for_rttov] Number of channels selected for RTTOV: 12\n",
      "[INFO: 2023-12-19 02:16:34: calc_emis_for_rttov] - List of selected channels: [1, 2, 3, 4, 5, 6, 7, 8, 11, 12, 13, 14]\n",
      "[INFO: 2023-12-19 02:16:34: calc_emis_for_rttov] - Freq (GHz): [ 6.925       6.925       7.3         7.3        10.65       10.65\n",
      " 18.7        18.7        36.49999999 36.49999999 88.99999999 88.99999999]\n",
      "[INFO: 2023-12-19 02:16:34: calc_emis_for_rttov] ****************************************************************\n",
      "[INFO: 2023-12-19 02:16:34: calc_emis_for_rttov] RTTOV runDirect started (get ocean surface emissvity from RTTOV)\n",
      "[INFO: 2023-12-19 02:16:34: calc_emis_for_rttov] MW ocean emis model (0=TESSEM2 else FASTEM version): 6\n",
      "[INFO: 2023-12-19 02:16:34: calc_emis_for_rttov] Tot number of profiles: 127171\n",
      "[INFO: 2023-12-19 02:16:34: calc_emis_for_rttov] Tot number of threads: 4\n",
      "[INFO: 2023-12-19 02:16:45: calc_emis_for_rttov] RTTOV runDirect finished\n",
      "[INFO: 2023-12-19 02:16:45: calc_emis_for_rttov] ****************************************************************\n",
      "[INFO: 2023-12-19 02:16:45: calc_emis_for_rttov] Estimate surface emis as (1-sic)*EmisOcean + sic*EmisIce\n",
      "[INFO: 2023-12-19 02:16:45: calc_emis_for_rttov] Emis over ice: using constant value\n",
      "[INFO: 2023-12-19 02:16:45: calc_emis_for_rttov] Constant ice emis: [0.92 0.85 0.92 0.85 0.92 0.85 0.92 0.85 0.78 0.7  0.75 0.68]\n",
      "[INFO: 2023-12-19 02:16:45: rttov13v0_interface] Simulating BT using RTTOV-SCATT\n",
      "[INFO: 2023-12-19 02:16:46: rttov13v0_calc_bt] MW sensor: amsr2\n",
      "[INFO: 2023-12-19 02:16:46: rttov13v0_calc_bt] Rttov coef file: /home/fab/rttov132/rtcoef_rttov13/rttov13pred54L/rtcoef_gcom-w_1_amsr2.dat\n",
      "[INFO: 2023-12-19 02:16:46: rttov13v0_calc_bt] Num of channels (RTTOV-SCATT loads all sensor s channels): 14\n",
      "[INFO: 2023-12-19 02:16:46: rttov13v0_calc_bt] - Freq (GHz): [ 6.925       6.925       7.3         7.3        10.65       10.65\n",
      " 18.7        18.7        23.8        23.8        36.49999999 36.49999999\n",
      " 88.99999999 88.99999999]\n",
      "[INFO: 2023-12-19 02:16:46: rttov13v0_calc_bt] Gas units: 2\n",
      "[INFO: 2023-12-19 02:16:46: rttov13v0_calc_bt] ****************************************************************\n",
      "[INFO: 2023-12-19 02:16:46: rttov13v0_calc_bt] RTTOV-SCATT runDirect started\n",
      "[INFO: 2023-12-19 02:16:46: rttov13v0_calc_bt] RTTOV-SCATT hydrotable: /home/fab/rttov132/rtcoef_rttov13/hydrotable/hydrotable_gcom-w_amsr2.dat\n",
      "[INFO: 2023-12-19 02:16:46: rttov13v0_calc_bt] Tot number of profiles: 127171\n",
      "[INFO: 2023-12-19 02:16:46: rttov13v0_calc_bt] Tot number of threads: 4\n",
      "[INFO: 2023-12-19 02:16:46: rttov13v0_calc_bt] Do Lambertian (not active for RTTOV-SCATT): True\n",
      "[INFO: 2023-12-19 02:17:02: rttov13v0_calc_bt] RTTOV-SCATT runDirect finished\n",
      "[INFO: 2023-12-19 02:17:02: rttov13v0_calc_bt] ****************************************************************\n",
      "[INFO: 2023-12-19 02:17:02: rttov13v0_interface] Simulating BT for reference atmospheric state ('no atm')\n",
      "[INFO: 2023-12-19 02:17:02: rttov13v0_calc_bt] MW sensor: amsr2\n"
     ]
    },
    {
     "name": "stderr",
     "output_type": "stream",
     "text": [
      "[INFO: 2023-12-19 02:17:02: rttov13v0_calc_bt] Rttov coef file: /home/fab/rttov132/rtcoef_rttov13/rttov13pred54L/rtcoef_gcom-w_1_amsr2.dat\n",
      "[INFO: 2023-12-19 02:17:02: rttov13v0_calc_bt] Number of channels selected for RTTOV: 12\n",
      "[INFO: 2023-12-19 02:17:02: rttov13v0_calc_bt] - List of selected channels: [1, 2, 3, 4, 5, 6, 7, 8, 11, 12, 13, 14]\n",
      "[INFO: 2023-12-19 02:17:02: rttov13v0_calc_bt] - Freq (GHz): [ 6.925       6.925       7.3         7.3        10.65       10.65\n",
      " 18.7        18.7        36.49999999 36.49999999 88.99999999 88.99999999]\n",
      "[INFO: 2023-12-19 02:17:02: rttov13v0_calc_bt] ****************************************************************\n",
      "[INFO: 2023-12-19 02:17:02: rttov13v0_calc_bt] RTTOV runDirect started (compute BT for 'no atm')\n",
      "[INFO: 2023-12-19 02:17:02: rttov13v0_calc_bt] Tot number of profiles: 127171\n",
      "[INFO: 2023-12-19 02:17:02: rttov13v0_calc_bt] Tot number of threads: 4\n",
      "[INFO: 2023-12-19 02:17:02: rttov13v0_calc_bt] Do Lambertian: True\n",
      "[INFO: 2023-12-19 02:17:10: rttov13v0_calc_bt] RTTOV runDirect finished\n",
      "[INFO: 2023-12-19 02:17:10: rttov13v0_calc_bt] ****************************************************************\n"
     ]
    }
   ],
   "source": [
    "# Collocated NWP surface variables\n",
    "surfNwp2swath = xr.open_dataset(ncSurfNwp2swath)\n",
    "# Collocated NWP model level variables\n",
    "profNwp2swath = xr.open_dataset(ncProfNwp2swath)\n",
    "\n",
    "# Surface\n",
    "lats = surfNwp2swath['lat'].data\n",
    "lons = surfNwp2swath['lon'].data\n",
    "sic  = surfNwp2swath['sic'].data\n",
    "skt  = surfNwp2swath['skt'].data\n",
    "t2m  = surfNwp2swath['t2m'].data\n",
    "u10  = surfNwp2swath['u10'].data\n",
    "v10  = surfNwp2swath['v10'].data\n",
    "sp   = surfNwp2swath['sp'].data\n",
    "\n",
    "# sic must be [0-1]\n",
    "if sic.max() > 1:\n",
    "    sic = sic/100.\n",
    "\n",
    "# Model Level\n",
    "profT = profNwp2swath['t'].data\n",
    "profQ = profNwp2swath['q'].data\n",
    "profCLWC = profNwp2swath['clwc'].data\n",
    "profCIWC = profNwp2swath['ciwc'].data\n",
    "profCRWC = profNwp2swath['crwc'].data\n",
    "profCSWC = profNwp2swath['cswc'].data\n",
    "profCC   = profNwp2swath['cc'].data\n",
    "hPaFullLevels = profNwp2swath['pf'].data\n",
    "hPaHalfLevels = profNwp2swath['ph'].data\n",
    "\n",
    "strYYYYMMDDHHMMs = surfNwp2swath.sensor_scan_start_time\n",
    "strYYYYMMDDHHMMe = surfNwp2swath.sensor_scan_end_time\n",
    "\n",
    "scanStartTime = datetime.strptime(strYYYYMMDDHHMMs, '%Y%d%m%H%M')\n",
    "scanEndTime   = datetime.strptime(strYYYYMMDDHHMMe, '%Y%d%m%H%M')\n",
    "centralSwathTime = scanStartTime + (scanEndTime - scanStartTime)/2 \n",
    "\n",
    "# if available, provide satZenAngle at every obs location (1D, dim=nobs)\n",
    "# otherwise, satZenAngle = [0] and a constant value will be used according to the satellite sensor\n",
    "satZenAngle = [0]\n",
    "\n",
    "# Init lists (this is to have the possibility of comparing different simulations)\n",
    "tbList      = []\n",
    "tbNoatmList = []\n",
    "emisList    = []\n",
    "\n",
    "##################################################\n",
    "# Sim 1: rttovScatt = True & useEmisAtlas = False\n",
    "##################################################\n",
    "rttovScatt = False\n",
    "useEmisAtlas = False\n",
    "\n",
    "simTb, simTb_noAtm, surfEmis, strChsList, emis_param_dict = run_rttov(lats,\n",
    "                                                                      lons,\n",
    "                                                                      sic,\n",
    "                                                                      skt,\n",
    "                                                                      t2m,\n",
    "                                                                      u10,\n",
    "                                                                      v10,\n",
    "                                                                      sp,\n",
    "                                                                      profT,\n",
    "                                                                      profQ,\n",
    "                                                                      profCLWC,\n",
    "                                                                      profCIWC,\n",
    "                                                                      profCRWC,\n",
    "                                                                      profCSWC,\n",
    "                                                                      profCC,\n",
    "                                                                      hPaFullLevels,\n",
    "                                                                      hPaHalfLevels,\n",
    "                                                                      strSatId,\n",
    "                                                                      satZenAngle,\n",
    "                                                                      centralSwathTime,\n",
    "                                                                      rttovCoefDir,\n",
    "                                                                      rttovHydDir,\n",
    "                                                                      rttovAtlasEmisDir,\n",
    "                                                                      rttovScatt,\n",
    "                                                                      useEmisAtlas,\n",
    "                                                                      calbBTnoAtm) \n",
    "\n",
    "# Append data to list (this is to have the possibility of comparing different simulations)\n",
    "tbList.append(simTb)\n",
    "tbNoatmList.append(simTb_noAtm)\n",
    "emisList.append(surfEmis)\n",
    "\n",
    "##################################################\n",
    "# Sim 2: rttovScatt = True & useEmisAtlas = True\n",
    "##################################################\n",
    "rttovScatt = True\n",
    "useEmisAtlas = False\n",
    "\n",
    "simTb, simTb_noAtm, surfEmis, strChsList, emis_param_dict = run_rttov(lats,\n",
    "                                                                      lons,\n",
    "                                                                      sic,\n",
    "                                                                      skt,\n",
    "                                                                      t2m,\n",
    "                                                                      u10,\n",
    "                                                                      v10,\n",
    "                                                                      sp,\n",
    "                                                                      profT,\n",
    "                                                                      profQ,\n",
    "                                                                      profCLWC,\n",
    "                                                                      profCIWC,\n",
    "                                                                      profCRWC,\n",
    "                                                                      profCSWC,\n",
    "                                                                      profCC,\n",
    "                                                                      hPaFullLevels,\n",
    "                                                                      hPaHalfLevels,\n",
    "                                                                      strSatId,\n",
    "                                                                      satZenAngle,\n",
    "                                                                      centralSwathTime,\n",
    "                                                                      rttovCoefDir,\n",
    "                                                                      rttovHydDir,\n",
    "                                                                      rttovAtlasEmisDir,\n",
    "                                                                      rttovScatt,\n",
    "                                                                      useEmisAtlas,\n",
    "                                                                      calbBTnoAtm) \n",
    "\n",
    "# Append data to list (this is to have the possibility of comparing different simulations)\n",
    "tbList.append(simTb)\n",
    "tbNoatmList.append(simTb_noAtm)\n",
    "emisList.append(surfEmis)"
   ]
  },
  {
   "cell_type": "code",
   "execution_count": null,
   "metadata": {},
   "outputs": [],
   "source": []
  }
 ],
 "metadata": {
  "kernelspec": {
   "display_name": "Python 3 (ipykernel)",
   "language": "python",
   "name": "python3"
  },
  "language_info": {
   "codemirror_mode": {
    "name": "ipython",
    "version": 3
   },
   "file_extension": ".py",
   "mimetype": "text/x-python",
   "name": "python",
   "nbconvert_exporter": "python",
   "pygments_lexer": "ipython3",
   "version": "3.10.14"
  }
 },
 "nbformat": 4,
 "nbformat_minor": 4
}
